{
 "cells": [
  {
   "cell_type": "markdown",
   "metadata": {},
   "source": [
    "<p style=\"text-align:center\">\n",
    "    <a href=\"https://skills.network\" target=\"_blank\">\n",
    "    <img src=\"https://cf-courses-data.s3.us.cloud-object-storage.appdomain.cloud/assets/logos/SN_web_lightmode.png\" width=\"200\" alt=\"Skills Network Logo\">\n",
    "    </a>\n",
    "</p>\n"
   ]
  },
  {
   "cell_type": "markdown",
   "metadata": {},
   "source": [
    "# **Space X  Falcon 9 First Stage Landing Prediction**\n"
   ]
  },
  {
   "cell_type": "markdown",
   "metadata": {},
   "source": [
    "## Web scraping Falcon 9 and Falcon Heavy Launches Records from Wikipedia\n"
   ]
  },
  {
   "cell_type": "markdown",
   "metadata": {},
   "source": [
    "Estimated time needed: **40** minutes\n"
   ]
  },
  {
   "cell_type": "markdown",
   "metadata": {},
   "source": [
    "In this lab, you will be performing web scraping to collect Falcon 9 historical launch records from a Wikipedia page titled `List of Falcon 9 and Falcon Heavy launches`\n",
    "\n",
    "https://en.wikipedia.org/wiki/List_of_Falcon_9_and_Falcon_Heavy_launches\n"
   ]
  },
  {
   "cell_type": "markdown",
   "metadata": {},
   "source": [
    "![](https://cf-courses-data.s3.us.cloud-object-storage.appdomain.cloud/IBM-DS0321EN-SkillsNetwork/labs/module_1_L2/images/Falcon9_rocket_family.svg)\n"
   ]
  },
  {
   "cell_type": "markdown",
   "metadata": {},
   "source": [
    "Falcon 9 first stage will land successfully\n"
   ]
  },
  {
   "cell_type": "markdown",
   "metadata": {},
   "source": [
    "![](https://cf-courses-data.s3.us.cloud-object-storage.appdomain.cloud/IBMDeveloperSkillsNetwork-DS0701EN-SkillsNetwork/api/Images/landing_1.gif)\n"
   ]
  },
  {
   "cell_type": "markdown",
   "metadata": {},
   "source": [
    "Several examples of an unsuccessful landing are shown here:\n"
   ]
  },
  {
   "cell_type": "markdown",
   "metadata": {},
   "source": [
    "![](https://cf-courses-data.s3.us.cloud-object-storage.appdomain.cloud/IBMDeveloperSkillsNetwork-DS0701EN-SkillsNetwork/api/Images/crash.gif)\n"
   ]
  },
  {
   "cell_type": "markdown",
   "metadata": {},
   "source": [
    "More specifically, the launch records are stored in a HTML table shown below:\n"
   ]
  },
  {
   "cell_type": "markdown",
   "metadata": {},
   "source": [
    "![](https://cf-courses-data.s3.us.cloud-object-storage.appdomain.cloud/IBM-DS0321EN-SkillsNetwork/labs/module_1_L2/images/falcon9-launches-wiki.png)\n"
   ]
  },
  {
   "cell_type": "markdown",
   "metadata": {},
   "source": [
    "  ## Objectives\n",
    "Web scrap Falcon 9 launch records with `BeautifulSoup`: \n",
    "- Extract a Falcon 9 launch records HTML table from Wikipedia\n",
    "- Parse the table and convert it into a Pandas data frame\n"
   ]
  },
  {
   "cell_type": "markdown",
   "metadata": {},
   "source": [
    "First let's import required packages for this lab\n"
   ]
  },
  {
   "cell_type": "code",
   "execution_count": null,
   "metadata": {},
   "outputs": [],
   "source": [
    "!pip3 install beautifulsoup4\n",
    "!pip3 install requests"
   ]
  },
  {
   "cell_type": "code",
   "execution_count": 1,
   "metadata": {},
   "outputs": [],
   "source": [
    "import sys\n",
    "\n",
    "import requests\n",
    "from bs4 import BeautifulSoup\n",
    "import re\n",
    "import unicodedata\n",
    "import pandas as pd"
   ]
  },
  {
   "cell_type": "markdown",
   "metadata": {},
   "source": [
    "and we will provide some helper functions for you to process web scraped HTML table\n"
   ]
  },
  {
   "cell_type": "code",
   "execution_count": null,
   "metadata": {},
   "outputs": [],
   "source": [
    "def date_time(table_cells):\n",
    "    \"\"\"\n",
    "    This function returns the data and time from the HTML  table cell\n",
    "    Input: the  element of a table data cell extracts extra row\n",
    "    \"\"\"\n",
    "    return [data_time.strip() for data_time in list(table_cells.strings)][0:2]\n",
    "\n",
    "def booster_version(table_cells):\n",
    "    \"\"\"\n",
    "    This function returns the booster version from the HTML  table cell \n",
    "    Input: the  element of a table data cell extracts extra row\n",
    "    \"\"\"\n",
    "    out=''.join([booster_version for i,booster_version in enumerate( table_cells.strings) if i%2==0][0:-1])\n",
    "    return out\n",
    "\n",
    "def landing_status(table_cells):\n",
    "    \"\"\"\n",
    "    This function returns the landing status from the HTML table cell \n",
    "    Input: the  element of a table data cell extracts extra row\n",
    "    \"\"\"\n",
    "    out=[i for i in table_cells.strings][0]\n",
    "    return out\n",
    "\n",
    "\n",
    "def get_mass(table_cells):\n",
    "    mass=unicodedata.normalize(\"NFKD\", table_cells.text).strip()\n",
    "    if mass:\n",
    "        mass.find(\"kg\")\n",
    "        new_mass=mass[0:mass.find(\"kg\")+2]\n",
    "    else:\n",
    "        new_mass=0\n",
    "    return new_mass\n",
    "\n",
    "\n",
    "def extract_column_from_header(row):\n",
    "    \"\"\"\n",
    "    This function returns the landing status from the HTML table cell \n",
    "    Input: the  element of a table data cell extracts extra row\n",
    "    \"\"\"\n",
    "    if (row.br):\n",
    "        row.br.extract()\n",
    "    if row.a:\n",
    "        row.a.extract()\n",
    "    if row.sup:\n",
    "        row.sup.extract()\n",
    "        \n",
    "    colunm_name = ' '.join(row.contents)\n",
    "    \n",
    "    # Filter the digit and empty names\n",
    "    if not(colunm_name.strip().isdigit()):\n",
    "        colunm_name = colunm_name.strip()\n",
    "        return colunm_name    \n"
   ]
  },
  {
   "cell_type": "markdown",
   "metadata": {},
   "source": [
    "To keep the lab tasks consistent, you will be asked to scrape the data from a snapshot of the  `List of Falcon 9 and Falcon Heavy launches` Wikipage updated on\n",
    "`9th June 2021`\n"
   ]
  },
  {
   "cell_type": "code",
   "execution_count": null,
   "metadata": {},
   "outputs": [],
   "source": [
    "static_url = \"https://en.wikipedia.org/w/index.php?title=List_of_Falcon_9_and_Falcon_Heavy_launches&oldid=1027686922\""
   ]
  },
  {
   "cell_type": "markdown",
   "metadata": {},
   "source": [
    "Next, request the HTML page from the above URL and get a `response` object\n"
   ]
  },
  {
   "cell_type": "markdown",
   "metadata": {},
   "source": [
    "### TASK 1: Request the Falcon9 Launch Wiki page from its URL\n"
   ]
  },
  {
   "cell_type": "markdown",
   "metadata": {},
   "source": [
    "First, let's perform an HTTP GET method to request the Falcon9 Launch HTML page, as an HTTP response.\n"
   ]
  },
  {
   "cell_type": "code",
   "execution_count": 3,
   "metadata": {
    "tags": []
   },
   "outputs": [
    {
     "name": "stdout",
     "output_type": "stream",
     "text": [
      "Request was successful\n"
     ]
    }
   ],
   "source": [
    "# use requests.get() method with the provided static_url\n",
    "# assign the response to a object\n",
    "import requests\n",
    "\n",
    "# URL of the Falcon 9 Launch page\n",
    "url = 'https://es.wikipedia.org/wiki/Anexo:Lanzamientos_de_cohetes_Falcon_9_y_Falcon_Heavy'\n",
    "\n",
    "# Perform the HTTP GET request\n",
    "response = requests.get(url)\n",
    "\n",
    "# Check if the request was successful\n",
    "if response.status_code == 200:\n",
    "    print(\"Request was successful\")\n",
    "else:\n",
    "    print(f\"Failed to retrieve the page. Status code: {response.status_code}\")\n",
    "\n",
    "# Optionally, you can print the HTML content of the page\n",
    "# print(response.text)\n"
   ]
  },
  {
   "cell_type": "markdown",
   "metadata": {},
   "source": [
    "Create a `BeautifulSoup` object from the HTML `response`\n"
   ]
  },
  {
   "cell_type": "code",
   "execution_count": 2,
   "metadata": {
    "tags": []
   },
   "outputs": [
    {
     "name": "stdout",
     "output_type": "stream",
     "text": [
      "Request was successful\n"
     ]
    }
   ],
   "source": [
    "# Use BeautifulSoup() to create a BeautifulSoup object from a response text content\n",
    "\n",
    "import requests\n",
    "from bs4 import BeautifulSoup\n",
    "\n",
    "# URL of the Falcon 9 Launch page\n",
    "url = 'https://es.wikipedia.org/wiki/Anexo:Lanzamientos_de_cohetes_Falcon_9_y_Falcon_Heavy'\n",
    "\n",
    "# Perform the HTTP GET request\n",
    "response = requests.get(url)\n",
    "\n",
    "# Check if the request was successful\n",
    "if response.status_code == 200:\n",
    "    print(\"Request was successful\")\n",
    "else:\n",
    "    print(f\"Failed to retrieve the page. Status code: {response.status_code}\")\n",
    "\n",
    "# Create a BeautifulSoup object from the HTML response\n",
    "soup = BeautifulSoup(response.text, 'html.parser')\n",
    "\n",
    "# Optionally, you can print the prettified HTML content to inspect it\n",
    "# print(soup.prettify())\n"
   ]
  },
  {
   "cell_type": "markdown",
   "metadata": {},
   "source": [
    "Print the page title to verify if the `BeautifulSoup` object was created properly \n"
   ]
  },
  {
   "cell_type": "code",
   "execution_count": 3,
   "metadata": {
    "tags": []
   },
   "outputs": [
    {
     "name": "stdout",
     "output_type": "stream",
     "text": [
      "Request was successful\n",
      "Anexo:Lanzamientos de cohetes Falcon 9 y Falcon Heavy - Wikipedia, la enciclopedia libre\n"
     ]
    }
   ],
   "source": [
    "# Use soup.title attribute\n",
    "\n",
    "import requests\n",
    "from bs4 import BeautifulSoup\n",
    "\n",
    "# URL of the Falcon 9 Launch page\n",
    "url = 'https://es.wikipedia.org/wiki/Anexo:Lanzamientos_de_cohetes_Falcon_9_y_Falcon_Heavy'\n",
    "\n",
    "# Perform the HTTP GET request\n",
    "response = requests.get(url)\n",
    "\n",
    "# Check if the request was successful\n",
    "if response.status_code == 200:\n",
    "    print(\"Request was successful\")\n",
    "else:\n",
    "    print(f\"Failed to retrieve the page. Status code: {response.status_code}\")\n",
    "\n",
    "# Create a BeautifulSoup object from the HTML response\n",
    "soup = BeautifulSoup(response.text, 'html.parser')\n",
    "\n",
    "# Print the page title to verify if the BeautifulSoup object was created properly\n",
    "print(soup.title.text)\n"
   ]
  },
  {
   "cell_type": "markdown",
   "metadata": {},
   "source": [
    "### TASK 2: Extract all column/variable names from the HTML table header\n"
   ]
  },
  {
   "cell_type": "markdown",
   "metadata": {},
   "source": [
    "Next, we want to collect all relevant column names from the HTML table header\n"
   ]
  },
  {
   "cell_type": "markdown",
   "metadata": {},
   "source": [
    "Let's try to find all tables on the wiki page first. If you need to refresh your memory about `BeautifulSoup`, please check the external reference link towards the end of this lab\n"
   ]
  },
  {
   "cell_type": "code",
   "execution_count": 4,
   "metadata": {
    "tags": []
   },
   "outputs": [
    {
     "data": {
      "text/plain": [
       "14"
      ]
     },
     "execution_count": 4,
     "metadata": {},
     "output_type": "execute_result"
    }
   ],
   "source": [
    "# Use the find_all function in the BeautifulSoup object, with element type `table`\n",
    "# Assign the result to a list called `html_tables`\n",
    "\n",
    "# Re-running the required code to extract tables from the HTML page using BeautifulSoup\n",
    "from bs4 import BeautifulSoup\n",
    "import requests\n",
    "\n",
    "# Request the Falcon 9 Launch Wikipedia page\n",
    "url = \"https://es.wikipedia.org/wiki/Anexo:Lanzamientos_de_cohetes_Falcon_9_y_Falcon_Heavy\"\n",
    "response = requests.get(url)\n",
    "\n",
    "# Create a BeautifulSoup object\n",
    "soup = BeautifulSoup(response.text, 'html.parser')\n",
    "\n",
    "# Find all tables in the BeautifulSoup object\n",
    "tables = soup.find_all('table')\n",
    "\n",
    "# Display the number of tables found\n",
    "len(tables)\n",
    "\n"
   ]
  },
  {
   "cell_type": "markdown",
   "metadata": {},
   "source": [
    "Starting from the third table is our target table contains the actual launch records.\n"
   ]
  },
  {
   "cell_type": "code",
   "execution_count": 6,
   "metadata": {
    "tags": []
   },
   "outputs": [
    {
     "name": "stdout",
     "output_type": "stream",
     "text": [
      "Headers: ['Vuelo #', 'Fecha y hora (UTC)', 'Versión, propulsor[b]\\u200b', 'Sitio de lanzamiento', 'Carga útil', 'Masa de carga útil', 'Órbita', 'Cliente', 'Resultado del lanzamiento', 'Aterrizaje del propulsor', '14', '15', '16', '17', '18', '19', '20']\n",
      "First 5 rows of data:\n",
      "['10 de enero de 2015 09:47[70]\\u200b', 'F9 v1.1 B1012[12]\\u200b', 'CCAFSSLC-40', 'SpaceX CRS-5[71]\\u200b', '2.395 kg[72]\\u200b[c]\\u200b', 'OTB (ISS)', 'NASA (CRS)', 'Éxito[73]\\u200b', 'Fallo[74]\\u200b  (JRTI)']\n",
      "['Luego de la separación de la segunda etapa, SpaceX intentó devolver la primera etapa a una plataforma flotante 90 por 50 metros, llamada «plataforma autónoma de puerto aeroespacial» (Autonomous Spaceport Drone Ship, ASDS.) La prueba logró muchos objetivos y devolvió una gran cantidad de datos, pero las superficies de control de aletas de rejilla utilizadas por primera vez para un posicionamiento de reentrada más preciso se quedaron sin fluido hidráulico para su sistema de control un minuto antes del aterrizaje, lo que resultó que se estrellara en la plataforma.[75]\\u200b[76]\\u200b']\n",
      "['11 de febrero de 2015 23:03[77]\\u200b', 'F9 v1.1B1013', 'CCAFS SLC-40', 'DSCOVR[78]\\u200b', '570 kg', 'Heliocéntrica (inserción en punto de Lagrange Sol-Tierra L1)', 'USAF, NASA, NOAA', 'Éxito', 'Controlado(océano)[d]\\u200b']\n",
      "['Primer lanzamiento bajo el contrato de lanzamiento OSP 3 de la USAF. Primer lanzamiento de SpaceX para colocar un satélite más allá de una órbita de transferencia geoestacionaria, primer lanzamiento de SpaceX al espacio interplanetario y primer lanzamiento de SpaceX de un satélite de investigación estadounidense. La primera etapa hizo una prueba de vuelo de descenso hacia un aterrizaje sobre el océano dentro de los 10 metros de su objetivo previsto.[79]\\u200b']\n",
      "['2 de marzo de 2015 03:50[26]\\u200b[80]\\u200b', 'F9 v1.1B1014', 'CCAFS SLC-40', 'ABS-3A\\nEutelsat 115 West B[71]\\u200b', '4.159 kg', 'OTG', 'ABS\\nEutelsat', 'Éxito', 'No intentado[81]\\u200b']\n"
     ]
    }
   ],
   "source": [
    "# Let's print the third table and check its content\n",
    "import requests\n",
    "from bs4 import BeautifulSoup\n",
    "\n",
    "# Make an HTTP GET request to the Falcon 9 launch page\n",
    "url = \"https://es.wikipedia.org/wiki/Anexo:Lanzamientos_de_cohetes_Falcon_9_y_Falcon_Heavy\"\n",
    "response = requests.get(url)\n",
    "\n",
    "# Create the BeautifulSoup object from the HTML content\n",
    "soup = BeautifulSoup(response.text, 'html.parser')\n",
    "\n",
    "# Find all tables on the page\n",
    "tables = soup.find_all('table', class_='wikitable')\n",
    "\n",
    "# Target the third table (index 2 in Python, since index starts at 0)\n",
    "target_table = tables[2]\n",
    "\n",
    "# Get the column names from the table header (th)\n",
    "headers = [th.text.strip() for th in target_table.find_all('th')]\n",
    "\n",
    "# Get all rows (excluding the header) and extract the data for each cell\n",
    "rows = target_table.find_all('tr')[1:]  # Skip the first row (header row)\n",
    "\n",
    "# Extract the data for each row\n",
    "data = []\n",
    "for row in rows:\n",
    "    cells = row.find_all('td')\n",
    "    cell_data = [cell.text.strip() for cell in cells]\n",
    "    data.append(cell_data)\n",
    "\n",
    "# Display the headers and the first few rows of data\n",
    "print(\"Headers:\", headers)\n",
    "print(\"First 5 rows of data:\")\n",
    "for row in data[:5]:\n",
    "    print(row)\n"
   ]
  },
  {
   "cell_type": "markdown",
   "metadata": {},
   "source": [
    "You should able to see the columns names embedded in the table header elements `<th>` as follows:\n"
   ]
  },
  {
   "cell_type": "markdown",
   "metadata": {},
   "source": [
    "```\n",
    "<tr>\n",
    "<th scope=\"col\">Flight No.\n",
    "</th>\n",
    "<th scope=\"col\">Date and<br/>time (<a href=\"/wiki/Coordinated_Universal_Time\" title=\"Coordinated Universal Time\">UTC</a>)\n",
    "</th>\n",
    "<th scope=\"col\"><a href=\"/wiki/List_of_Falcon_9_first-stage_boosters\" title=\"List of Falcon 9 first-stage boosters\">Version,<br/>Booster</a> <sup class=\"reference\" id=\"cite_ref-booster_11-0\"><a href=\"#cite_note-booster-11\">[b]</a></sup>\n",
    "</th>\n",
    "<th scope=\"col\">Launch site\n",
    "</th>\n",
    "<th scope=\"col\">Payload<sup class=\"reference\" id=\"cite_ref-Dragon_12-0\"><a href=\"#cite_note-Dragon-12\">[c]</a></sup>\n",
    "</th>\n",
    "<th scope=\"col\">Payload mass\n",
    "</th>\n",
    "<th scope=\"col\">Orbit\n",
    "</th>\n",
    "<th scope=\"col\">Customer\n",
    "</th>\n",
    "<th scope=\"col\">Launch<br/>outcome\n",
    "</th>\n",
    "<th scope=\"col\"><a href=\"/wiki/Falcon_9_first-stage_landing_tests\" title=\"Falcon 9 first-stage landing tests\">Booster<br/>landing</a>\n",
    "</th></tr>\n",
    "```\n"
   ]
  },
  {
   "cell_type": "markdown",
   "metadata": {},
   "source": [
    "Next, we just need to iterate through the `<th>` elements and apply the provided `extract_column_from_header()` to extract column name one by one\n"
   ]
  },
  {
   "cell_type": "code",
   "execution_count": 7,
   "metadata": {
    "tags": []
   },
   "outputs": [
    {
     "name": "stdout",
     "output_type": "stream",
     "text": [
      "Extracted Headers: ['Vuelo #', 'Fecha y hora (UTC)', 'Versión, propulsor[b]\\u200b', 'Sitio de lanzamiento', 'Carga útil', 'Masa de carga útil', 'Órbita', 'Cliente', 'Resultado del lanzamiento', 'Aterrizaje del propulsor', '14', '15', '16', '17', '18', '19', '20']\n"
     ]
    }
   ],
   "source": [
    "column_names = []\n",
    "\n",
    "# Apply find_all() function with `th` element on first_launch_table\n",
    "# Iterate each th element and apply the provided extract_column_from_header() to get a column name\n",
    "# Append the Non-empty column name (`if name is not None and len(name) > 0`) into a list called column_names\n",
    "\n",
    "import requests\n",
    "from bs4 import BeautifulSoup\n",
    "\n",
    "# Function to clean and extract column names from the header\n",
    "def extract_column_from_header(header):\n",
    "    # Clean and format the column name (strip extra spaces and handle any special characters if needed)\n",
    "    return header.text.strip()\n",
    "\n",
    "# Make an HTTP GET request to the Falcon 9 launch page\n",
    "url = \"https://es.wikipedia.org/wiki/Anexo:Lanzamientos_de_cohetes_Falcon_9_y_Falcon_Heavy\"\n",
    "response = requests.get(url)\n",
    "\n",
    "# Create the BeautifulSoup object from the HTML content\n",
    "soup = BeautifulSoup(response.text, 'html.parser')\n",
    "\n",
    "# Find all tables on the page\n",
    "tables = soup.find_all('table', class_='wikitable')\n",
    "\n",
    "# Target the third table (index 2 in Python, since index starts at 0)\n",
    "target_table = tables[2]\n",
    "\n",
    "# Get the column names from the table header (th) and apply the extract_column_from_header function\n",
    "headers = [extract_column_from_header(th) for th in target_table.find_all('th')]\n",
    "\n",
    "# Display the extracted headers\n",
    "print(\"Extracted Headers:\", headers)\n",
    "\n"
   ]
  },
  {
   "cell_type": "markdown",
   "metadata": {},
   "source": [
    "Check the extracted column names\n"
   ]
  },
  {
   "cell_type": "code",
   "execution_count": 9,
   "metadata": {
    "tags": []
   },
   "outputs": [
    {
     "name": "stdout",
     "output_type": "stream",
     "text": [
      "[]\n",
      "Extracted Headers: ['Vuelo #', 'Fecha y hora (UTC)', 'Versión, propulsor[b]\\u200b', 'Sitio de lanzamiento', 'Carga útil', 'Masa de carga útil', 'Órbita', 'Cliente', 'Resultado del lanzamiento', 'Aterrizaje del propulsor', '14', '15', '16', '17', '18', '19', '20']\n"
     ]
    }
   ],
   "source": [
    "print(column_names)\n",
    "import requests\n",
    "from bs4 import BeautifulSoup\n",
    "\n",
    "# Function to clean and extract column names from the header\n",
    "def extract_column_from_header(header):\n",
    "    return header.text.strip()\n",
    "\n",
    "# Make an HTTP GET request to the Falcon 9 launch page\n",
    "url = \"https://es.wikipedia.org/wiki/Anexo:Lanzamientos_de_cohetes_Falcon_9_y_Falcon_Heavy\"\n",
    "response = requests.get(url)\n",
    "\n",
    "# Create the BeautifulSoup object from the HTML content\n",
    "soup = BeautifulSoup(response.text, 'html.parser')\n",
    "\n",
    "# Find all tables on the page\n",
    "tables = soup.find_all('table', class_='wikitable')\n",
    "\n",
    "# Target the third table (index 2 in Python, since index starts at 0)\n",
    "target_table = tables[2]\n",
    "\n",
    "# Get the column names from the table header (th) and apply the extract_column_from_header function\n",
    "headers = [extract_column_from_header(th) for th in target_table.find_all('th')]\n",
    "\n",
    "# Display the extracted headers\n",
    "print(\"Extracted Headers:\", headers)\n"
   ]
  },
  {
   "cell_type": "markdown",
   "metadata": {},
   "source": [
    "## TASK 3: Create a data frame by parsing the launch HTML tables\n"
   ]
  },
  {
   "cell_type": "markdown",
   "metadata": {},
   "source": [
    "We will create an empty dictionary with keys from the extracted column names in the previous task. Later, this dictionary will be converted into a Pandas dataframe\n"
   ]
  },
  {
   "cell_type": "code",
   "execution_count": 12,
   "metadata": {
    "tags": []
   },
   "outputs": [
    {
     "name": "stdout",
     "output_type": "stream",
     "text": [
      "Empty DataFrame\n",
      "Columns: [Flight Number, Launch Date, Rocket Type, Payload, Orbit, Landing, Outcome]\n",
      "Index: []\n"
     ]
    }
   ],
   "source": [
    "import pandas as pd\n",
    "\n",
    "# Extracted column names from the previous task (this is just a placeholder, use your actual list of column names)\n",
    "column_names = ['Flight Number', 'Launch Date', 'Rocket Type', 'Payload', 'Orbit', 'Landing', 'Outcome']  # Example names\n",
    "\n",
    "# Create an empty dictionary with keys as column names\n",
    "data_dict = {column: [] for column in column_names}\n",
    "\n",
    "# Convert the dictionary into a Pandas DataFrame\n",
    "df = pd.DataFrame(data_dict)\n",
    "\n",
    "# Display the empty DataFrame\n",
    "print(df)\n",
    "\n"
   ]
  },
  {
   "cell_type": "markdown",
   "metadata": {},
   "source": [
    "Next, we just need to fill up the `launch_dict` with launch records extracted from table rows.\n"
   ]
  },
  {
   "cell_type": "markdown",
   "metadata": {},
   "source": [
    "Usually, HTML tables in Wiki pages are likely to contain unexpected annotations and other types of noises, such as reference links `B0004.1[8]`, missing values `N/A [e]`, inconsistent formatting, etc.\n"
   ]
  },
  {
   "cell_type": "markdown",
   "metadata": {},
   "source": [
    "To simplify the parsing process, we have provided an incomplete code snippet below to help you to fill up the `launch_dict`. Please complete the following code snippet with TODOs or you can choose to write your own logic to parse all launch tables:\n"
   ]
  },
  {
   "cell_type": "code",
   "execution_count": 14,
   "metadata": {
    "tags": []
   },
   "outputs": [
    {
     "name": "stdout",
     "output_type": "stream",
     "text": [
      "                       Flight Number        Launch Date  Rocket Type  \\\n",
      "0      10 de enero de 201509:47[70]​  F9 v1.1B1012[12]​  CCAFSSLC-40   \n",
      "1    11 de febrero de 201523:03[77]​       F9 v1.1B1013  CCAFSSLC-40   \n",
      "2  2 de marzo de 201503:50[26]​[80]​       F9 v1.1B1014  CCAFSSLC-40   \n",
      "3           14 de abril de 201520:10       F9 v1.1B1015  CCAFSSLC-40   \n",
      "4      27 de abril de 201523:03[88]​       F9 v1.1B1016  CCAFSSLC-40   \n",
      "5           28 de junio de 201514:21       F9 v1.1B1018  CCAFSSLC-40   \n",
      "6  22 de diciembre de 201501:29[97]​         F9 FTB1019  CCAFSSLC-40   \n",
      "\n",
      "                             Payload              Orbit  \\\n",
      "0                  SpaceX CRS-5[71]​  2.395 kg[72]​[c]​   \n",
      "1                        DSCOVR[78]​             570 kg   \n",
      "2     ABS-3AEutelsat 115 West B[71]​           4.159 kg   \n",
      "3                       SpaceX CRS-6  1.898 kg[84]​[c]​   \n",
      "4  TürkmenÄlem 52°E / MonacoSAT[89]​           4.707 kg   \n",
      "5                       SpaceX CRS-7  1.952 kg[92]​[c]​   \n",
      "6   Orbcomm-OG2-2(11 satélites)[46]​           2.034 kg   \n",
      "\n",
      "                                             Landing  \\\n",
      "0                                           OTB(ISS)   \n",
      "1  Heliocéntrica(inserción enpunto de Lagrange So...   \n",
      "2                                                OTG   \n",
      "3                                           OTB(ISS)   \n",
      "4                                                OTG   \n",
      "5                                           OTB(ISS)   \n",
      "6                                                OTB   \n",
      "\n",
      "                                Outcome  \n",
      "0                             NASA(CRS)  \n",
      "1                        USAF,NASA,NOAA  \n",
      "2                           ABSEutelsat  \n",
      "3                             NASA(CRS)  \n",
      "4  Agencia espacial deTurkmenistán[90]​  \n",
      "5                             NASA(CRS)  \n",
      "6                               Orbcomm  \n"
     ]
    }
   ],
   "source": [
    "extracted_row = 0\n",
    "#Extract each table \n",
    "for table_number,table in enumerate(soup.find_all('table',\"wikitable plainrowheaders collapsible\")):\n",
    "   # get table row \n",
    "    for rows in table.find_all(\"tr\"):\n",
    "        #check to see if first table heading is as number corresponding to launch a number \n",
    "        if rows.th:\n",
    "            if rows.th.string:\n",
    "                flight_number=rows.th.string.strip()\n",
    "                flag=flight_number.isdigit()\n",
    "        else:\n",
    "            flag=False\n",
    "        #get table element \n",
    "        row=rows.find_all('td')\n",
    "        #if it is number save cells in a dictonary \n",
    "        if flag:\n",
    "            extracted_row += 1\n",
    "            # Flight Number value\n",
    "            # TODO: Append the flight_number into launch_dict with key `Flight No.`\n",
    "            #print(flight_number)\n",
    "            datatimelist=date_time(row[0])\n",
    "            \n",
    "            # Date value\n",
    "            # TODO: Append the date into launch_dict with key `Date`\n",
    "            date = datatimelist[0].strip(',')\n",
    "            #print(date)\n",
    "            \n",
    "            # Time value\n",
    "            # TODO: Append the time into launch_dict with key `Time`\n",
    "            time = datatimelist[1]\n",
    "            #print(time)\n",
    "              \n",
    "            # Booster version\n",
    "            # TODO: Append the bv into launch_dict with key `Version Booster`\n",
    "            bv=booster_version(row[1])\n",
    "            if not(bv):\n",
    "                bv=row[1].a.string\n",
    "            print(bv)\n",
    "            \n",
    "            # Launch Site\n",
    "            # TODO: Append the bv into launch_dict with key `Launch Site`\n",
    "            launch_site = row[2].a.string\n",
    "            #print(launch_site)\n",
    "            \n",
    "            # Payload\n",
    "            # TODO: Append the payload into launch_dict with key `Payload`\n",
    "            payload = row[3].a.string\n",
    "            #print(payload)\n",
    "            \n",
    "            # Payload Mass\n",
    "            # TODO: Append the payload_mass into launch_dict with key `Payload mass`\n",
    "            payload_mass = get_mass(row[4])\n",
    "            #print(payload)\n",
    "            \n",
    "            # Orbit\n",
    "            # TODO: Append the orbit into launch_dict with key `Orbit`\n",
    "            orbit = row[5].a.string\n",
    "            #print(orbit)\n",
    "            \n",
    "            # Customer\n",
    "            # TODO: Append the customer into launch_dict with key `Customer`\n",
    "            customer = row[6].a.string\n",
    "            #print(customer)\n",
    "            \n",
    "            # Launch outcome\n",
    "            # TODO: Append the launch_outcome into launch_dict with key `Launch outcome`\n",
    "            launch_outcome = list(row[7].strings)[0]\n",
    "            #print(launch_outcome)\n",
    "            \n",
    "            # Booster landing\n",
    "            # TODO: Append the launch_outcome into launch_dict with key `Booster landing`\n",
    "            booster_landing = landing_status(row[8])\n",
    "            #print(booster_landing)\n",
    "            \n",
    "            \n",
    "            import requests\n",
    "from bs4 import BeautifulSoup\n",
    "import pandas as pd\n",
    "\n",
    "# URL of the Wikipedia page with Falcon 9 and Falcon Heavy launches\n",
    "url = \"https://es.wikipedia.org/wiki/Anexo:Lanzamientos_de_cohetes_Falcon_9_y_Falcon_Heavy\"\n",
    "\n",
    "# Perform HTTP GET request to get the page content\n",
    "response = requests.get(url)\n",
    "\n",
    "# Create a BeautifulSoup object from the HTML content\n",
    "soup = BeautifulSoup(response.content, 'html.parser')\n",
    "\n",
    "# Find all the tables on the page\n",
    "tables = soup.find_all('table', {'class': 'wikitable'})\n",
    "\n",
    "# Select the third table (index 2), which contains the actual launch data\n",
    "target_table = tables[2]\n",
    "\n",
    "# Initialize the launch_dict with the expected column names (customize as needed)\n",
    "launch_dict = {\n",
    "    'Flight Number': [],\n",
    "    'Launch Date': [],\n",
    "    'Rocket Type': [],\n",
    "    'Payload': [],\n",
    "    'Orbit': [],\n",
    "    'Landing': [],\n",
    "    'Outcome': []\n",
    "}\n",
    "\n",
    "# Iterate over each row in the table, starting from the second row (skip header)\n",
    "for row in target_table.find_all('tr')[1:]:\n",
    "    cols = row.find_all('td')  # Find all <td> elements in the row\n",
    "    \n",
    "    # Ensure there are enough columns in this row (e.g., 7 columns)\n",
    "    if len(cols) >= 7:\n",
    "        # Extract each piece of data and clean up the text by stripping unwanted spaces\n",
    "        flight_number = cols[0].get_text(strip=True)\n",
    "        launch_date = cols[1].get_text(strip=True)\n",
    "        rocket_type = cols[2].get_text(strip=True)\n",
    "        payload = cols[3].get_text(strip=True)\n",
    "        orbit = cols[4].get_text(strip=True)\n",
    "        landing = cols[5].get_text(strip=True)\n",
    "        outcome = cols[6].get_text(strip=True)\n",
    "        \n",
    "        # Append the extracted values to the corresponding lists in the launch_dict\n",
    "        launch_dict['Flight Number'].append(flight_number)\n",
    "        launch_dict['Launch Date'].append(launch_date)\n",
    "        launch_dict['Rocket Type'].append(rocket_type)\n",
    "        launch_dict['Payload'].append(payload)\n",
    "        launch_dict['Orbit'].append(orbit)\n",
    "        launch_dict['Landing'].append(landing)\n",
    "        launch_dict['Outcome'].append(outcome)\n",
    "\n",
    "# Convert the launch_dict into a Pandas DataFrame\n",
    "df = pd.DataFrame(launch_dict)\n",
    "\n",
    "# Display the DataFrame to verify the data\n",
    "print(df)\n",
    "\n",
    "            "
   ]
  },
  {
   "cell_type": "markdown",
   "metadata": {},
   "source": [
    "After you have fill in the parsed launch record values into `launch_dict`, you can create a dataframe from it.\n"
   ]
  },
  {
   "cell_type": "code",
   "execution_count": 16,
   "metadata": {
    "tags": []
   },
   "outputs": [
    {
     "name": "stdout",
     "output_type": "stream",
     "text": [
      "                       Flight Number        Launch Date  Rocket Type  \\\n",
      "0      10 de enero de 201509:47[70]​  F9 v1.1B1012[12]​  CCAFSSLC-40   \n",
      "1    11 de febrero de 201523:03[77]​       F9 v1.1B1013  CCAFSSLC-40   \n",
      "2  2 de marzo de 201503:50[26]​[80]​       F9 v1.1B1014  CCAFSSLC-40   \n",
      "3           14 de abril de 201520:10       F9 v1.1B1015  CCAFSSLC-40   \n",
      "4      27 de abril de 201523:03[88]​       F9 v1.1B1016  CCAFSSLC-40   \n",
      "5           28 de junio de 201514:21       F9 v1.1B1018  CCAFSSLC-40   \n",
      "6  22 de diciembre de 201501:29[97]​         F9 FTB1019  CCAFSSLC-40   \n",
      "\n",
      "                             Payload              Orbit  \\\n",
      "0                  SpaceX CRS-5[71]​  2.395 kg[72]​[c]​   \n",
      "1                        DSCOVR[78]​             570 kg   \n",
      "2     ABS-3AEutelsat 115 West B[71]​           4.159 kg   \n",
      "3                       SpaceX CRS-6  1.898 kg[84]​[c]​   \n",
      "4  TürkmenÄlem 52°E / MonacoSAT[89]​           4.707 kg   \n",
      "5                       SpaceX CRS-7  1.952 kg[92]​[c]​   \n",
      "6   Orbcomm-OG2-2(11 satélites)[46]​           2.034 kg   \n",
      "\n",
      "                                             Landing  \\\n",
      "0                                           OTB(ISS)   \n",
      "1  Heliocéntrica(inserción enpunto de Lagrange So...   \n",
      "2                                                OTG   \n",
      "3                                           OTB(ISS)   \n",
      "4                                                OTG   \n",
      "5                                           OTB(ISS)   \n",
      "6                                                OTB   \n",
      "\n",
      "                                Outcome  \n",
      "0                             NASA(CRS)  \n",
      "1                        USAF,NASA,NOAA  \n",
      "2                           ABSEutelsat  \n",
      "3                             NASA(CRS)  \n",
      "4  Agencia espacial deTurkmenistán[90]​  \n",
      "5                             NASA(CRS)  \n",
      "6                               Orbcomm  \n"
     ]
    }
   ],
   "source": [
    "df= pd.DataFrame({ key:pd.Series(value) for key, value in launch_dict.items() })\n",
    "\n",
    "import requests\n",
    "from bs4 import BeautifulSoup\n",
    "import pandas as pd\n",
    "\n",
    "# URL of the Wikipedia page with Falcon 9 and Falcon Heavy launches\n",
    "url = \"https://es.wikipedia.org/wiki/Anexo:Lanzamientos_de_cohetes_Falcon_9_y_Falcon_Heavy\"\n",
    "\n",
    "# Perform HTTP GET request to get the page content\n",
    "response = requests.get(url)\n",
    "\n",
    "# Create a BeautifulSoup object from the HTML content\n",
    "soup = BeautifulSoup(response.content, 'html.parser')\n",
    "\n",
    "# Find all the tables on the page\n",
    "tables = soup.find_all('table', {'class': 'wikitable'})\n",
    "\n",
    "# Select the third table (index 2), which contains the actual launch data\n",
    "target_table = tables[2]\n",
    "\n",
    "# Initialize the launch_dict with the expected column names\n",
    "launch_dict = {\n",
    "    'Flight Number': [],\n",
    "    'Launch Date': [],\n",
    "    'Rocket Type': [],\n",
    "    'Payload': [],\n",
    "    'Orbit': [],\n",
    "    'Landing': [],\n",
    "    'Outcome': []\n",
    "}\n",
    "\n",
    "# Iterate over each row in the table, starting from the second row (skip header)\n",
    "for row in target_table.find_all('tr')[1:]:\n",
    "    cols = row.find_all('td')  # Find all <td> elements in the row\n",
    "    \n",
    "    # Ensure there are enough columns in this row (e.g., 7 columns)\n",
    "    if len(cols) >= 7:\n",
    "        # Extract each piece of data and clean up the text by stripping unwanted spaces\n",
    "        flight_number = cols[0].get_text(strip=True)\n",
    "        launch_date = cols[1].get_text(strip=True)\n",
    "        rocket_type = cols[2].get_text(strip=True)\n",
    "        payload = cols[3].get_text(strip=True)\n",
    "        orbit = cols[4].get_text(strip=True)\n",
    "        landing = cols[5].get_text(strip=True)\n",
    "        outcome = cols[6].get_text(strip=True)\n",
    "        \n",
    "        # Append the extracted values to the corresponding lists in the launch_dict\n",
    "        launch_dict['Flight Number'].append(flight_number)\n",
    "        launch_dict['Launch Date'].append(launch_date)\n",
    "        launch_dict['Rocket Type'].append(rocket_type)\n",
    "        launch_dict['Payload'].append(payload)\n",
    "        launch_dict['Orbit'].append(orbit)\n",
    "        launch_dict['Landing'].append(landing)\n",
    "        launch_dict['Outcome'].append(outcome)\n",
    "\n",
    "# Convert the launch_dict into a Pandas DataFrame\n",
    "df = pd.DataFrame(launch_dict)\n",
    "\n",
    "# Display the DataFrame to verify the data\n",
    "print(df)\n"
   ]
  },
  {
   "cell_type": "markdown",
   "metadata": {},
   "source": [
    "We can now export it to a <b>CSV</b> for the next section, but to make the answers consistent and in case you have difficulties finishing this lab. \n",
    "\n",
    "Following labs will be using a provided dataset to make each lab independent. \n"
   ]
  },
  {
   "cell_type": "code",
   "execution_count": 17,
   "metadata": {
    "tags": []
   },
   "outputs": [
    {
     "name": "stdout",
     "output_type": "stream",
     "text": [
      "Data successfully exported to 'falcon9_launches.csv'. You can use this file for the next section.\n"
     ]
    }
   ],
   "source": [
    "# Export the DataFrame to a CSV file for the next section\n",
    "df.to_csv('falcon9_launches.csv', index=False)\n",
    "\n",
    "# Confirmation message\n",
    "print(\"Data successfully exported to 'falcon9_launches.csv'. You can use this file for the next section.\")\n"
   ]
  },
  {
   "cell_type": "markdown",
   "metadata": {},
   "source": [
    "<code>df.to_csv('spacex_web_scraped.csv', index=False)</code>\n"
   ]
  },
  {
   "cell_type": "markdown",
   "metadata": {},
   "source": [
    "## Authors\n"
   ]
  },
  {
   "cell_type": "markdown",
   "metadata": {},
   "source": [
    "<a href=\"https://www.linkedin.com/in/yan-luo-96288783/\">Yan Luo</a>\n"
   ]
  },
  {
   "cell_type": "markdown",
   "metadata": {},
   "source": [
    "<a href=\"https://www.linkedin.com/in/nayefaboutayoun/\">Nayef Abou Tayoun</a>\n"
   ]
  },
  {
   "cell_type": "markdown",
   "metadata": {},
   "source": [
    "<!--\n",
    "## Change Log\n",
    "-->\n"
   ]
  },
  {
   "cell_type": "markdown",
   "metadata": {},
   "source": [
    "<!--\n",
    "| Date (YYYY-MM-DD) | Version | Changed By | Change Description      |\n",
    "| ----------------- | ------- | ---------- | ----------------------- |\n",
    "| 2021-06-09        | 1.0     | Yan Luo    | Tasks updates           |\n",
    "| 2020-11-10        | 1.0     | Nayef      | Created the initial version |\n",
    "-->\n"
   ]
  },
  {
   "cell_type": "markdown",
   "metadata": {},
   "source": [
    "Copyright © 2021 IBM Corporation. All rights reserved.\n"
   ]
  }
 ],
 "metadata": {
  "kernelspec": {
   "display_name": "Python",
   "language": "python",
   "name": "conda-env-python-py"
  },
  "language_info": {
   "codemirror_mode": {
    "name": "ipython",
    "version": 3
   },
   "file_extension": ".py",
   "mimetype": "text/x-python",
   "name": "python",
   "nbconvert_exporter": "python",
   "pygments_lexer": "ipython3",
   "version": "3.7.12"
  },
  "prev_pub_hash": "64f1b0aac408997185c47caba18730e0028b75e7934a0e5bf0ae73c5cb7ba677"
 },
 "nbformat": 4,
 "nbformat_minor": 4
}
